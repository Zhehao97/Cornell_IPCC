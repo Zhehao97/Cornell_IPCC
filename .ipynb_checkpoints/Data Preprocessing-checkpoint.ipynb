{
 "cells": [
  {
   "cell_type": "markdown",
   "metadata": {},
   "source": [
    "## Data Preprocessing"
   ]
  },
  {
   "cell_type": "code",
   "execution_count": 1,
   "metadata": {},
   "outputs": [],
   "source": [
    "import numpy as np\n",
    "import pandas as pd\n",
    "import matplotlib.pyplot as plt"
   ]
  },
  {
   "cell_type": "markdown",
   "metadata": {},
   "source": [
    "### 1. Loading Data"
   ]
  },
  {
   "cell_type": "code",
   "execution_count": 2,
   "metadata": {},
   "outputs": [],
   "source": [
    "inpt_path = 'Cornell Data.xlsx'"
   ]
  },
  {
   "cell_type": "code",
   "execution_count": 3,
   "metadata": {},
   "outputs": [],
   "source": [
    "Tbill = pd.read_excel(io=inpt_path, sheet_name='T-Bill')\n",
    "TbillETF = pd.read_excel(io=inpt_path, sheet_name='1-3 MONTH ETF')\n",
    "\n",
    "# convert yield to price\n",
    "Tbill['Mid Price'] = Tbill['Mid Price'].apply(lambda x:100/(1+x/12))"
   ]
  },
  {
   "cell_type": "code",
   "execution_count": 9,
   "metadata": {},
   "outputs": [],
   "source": [
    "AggIndex = pd.read_excel(io=inpt_path, sheet_name='Bloomberg Agg Index')\n",
    "AggETF = pd.read_excel(io=inpt_path, sheet_name='USAG LN Eq')"
   ]
  },
  {
   "cell_type": "code",
   "execution_count": 10,
   "metadata": {},
   "outputs": [],
   "source": [
    "SP500 = pd.read_excel(io=inpt_path, sheet_name='S&P500')"
   ]
  },
  {
   "cell_type": "code",
   "execution_count": 11,
   "metadata": {},
   "outputs": [],
   "source": [
    "Russell1000 = pd.read_excel(io=inpt_path, sheet_name='Russell 1000')\n",
    "Russell1000ETF = pd.read_excel(io=inpt_path, sheet_name='russell 1000 etf')"
   ]
  },
  {
   "cell_type": "code",
   "execution_count": 12,
   "metadata": {},
   "outputs": [],
   "source": [
    "EmergingETF = pd.read_excel(io=inpt_path, sheet_name='SPDR ETF')"
   ]
  },
  {
   "cell_type": "markdown",
   "metadata": {},
   "source": [
    "### 2. Merge Indexes"
   ]
  },
  {
   "cell_type": "code",
   "execution_count": 14,
   "metadata": {},
   "outputs": [],
   "source": [
    "# merge 4 instruments\n",
    "Portfolio_Classic = Tbill.merge(AggIndex, on='Date')\n",
    "Portfolio_Classic = Portfolio_Classic.merge(SP500, on='Date')\n",
    "Portfolio_Classic = Portfolio_Classic.merge(Russell1000, on='Date')"
   ]
  },
  {
   "cell_type": "code",
   "execution_count": 15,
   "metadata": {},
   "outputs": [],
   "source": [
    "# rename the columns\n",
    "Portfolio_Classic.columns = ['Date', 'T-Bill', 'US AggIndex', 'S&P 500', 'Russell 1000']"
   ]
  },
  {
   "cell_type": "code",
   "execution_count": 16,
   "metadata": {},
   "outputs": [],
   "source": [
    "# set and sort the index\n",
    "Portfolio_Classic = Portfolio_Classic.set_index('Date')\n",
    "Portfolio_Classic = Portfolio_Classic.sort_index(ascending=True)"
   ]
  },
  {
   "cell_type": "code",
   "execution_count": 17,
   "metadata": {},
   "outputs": [],
   "source": [
    "# calculate the daily return for each Indexes\n",
    "PotfReturn_Classic = Portfolio_Classic.apply(lambda x:(x/x.shift()-1))"
   ]
  },
  {
   "cell_type": "code",
   "execution_count": 18,
   "metadata": {},
   "outputs": [],
   "source": [
    "# save the result\n",
    "Portfolio_Classic.to_csv('IDX_price.csv')\n",
    "PotfReturn_Classic.to_csv('IDX_return.csv')"
   ]
  },
  {
   "cell_type": "markdown",
   "metadata": {},
   "source": [
    "### 3. Merge ETFs"
   ]
  },
  {
   "cell_type": "code",
   "execution_count": 29,
   "metadata": {},
   "outputs": [],
   "source": [
    "# merge 4 instruments\n",
    "Portfolio_ETF = TbillETF.merge(AggETF, on='Date', how='outer')\n",
    "Portfolio_ETF = Portfolio_ETF.merge(EmergingETF, on='Date')\n",
    "Portfolio_ETF = Portfolio_ETF.merge(Russell1000ETF, on='Date')"
   ]
  },
  {
   "cell_type": "code",
   "execution_count": 30,
   "metadata": {},
   "outputs": [],
   "source": [
    "# rename the columns\n",
    "Portfolio_ETF.columns = ['Date', 'T-Bill ETF', 'US AggETF', 'Emerging Market ETF', 'Russell 1000 ETF']"
   ]
  },
  {
   "cell_type": "code",
   "execution_count": 31,
   "metadata": {},
   "outputs": [],
   "source": [
    "# set and sort the index\n",
    "Portfolio_ETF = Portfolio_ETF.set_index('Date')\n",
    "Portfolio_ETF = Portfolio_ETF.sort_index(ascending=True)"
   ]
  },
  {
   "cell_type": "code",
   "execution_count": 32,
   "metadata": {},
   "outputs": [],
   "source": [
    "Portfolio_ETF = Portfolio_ETF.dropna()"
   ]
  },
  {
   "cell_type": "code",
   "execution_count": 33,
   "metadata": {},
   "outputs": [],
   "source": [
    "# calculate the daily return for each ETFs\n",
    "PotfReturn_ETF = Portfolio_ETF.apply(lambda x:(x/x.shift()-1))"
   ]
  },
  {
   "cell_type": "code",
   "execution_count": 36,
   "metadata": {},
   "outputs": [],
   "source": [
    "# save the result\n",
    "Portfolio_ETF.to_csv('ETF_price.csv')\n",
    "PotfReturn_ETF.to_csv('ETF_return.csv')"
   ]
  },
  {
   "cell_type": "code",
   "execution_count": null,
   "metadata": {},
   "outputs": [],
   "source": []
  }
 ],
 "metadata": {
  "kernelspec": {
   "display_name": "Python 3",
   "language": "python",
   "name": "python3"
  },
  "language_info": {
   "codemirror_mode": {
    "name": "ipython",
    "version": 3
   },
   "file_extension": ".py",
   "mimetype": "text/x-python",
   "name": "python",
   "nbconvert_exporter": "python",
   "pygments_lexer": "ipython3",
   "version": "3.7.1"
  }
 },
 "nbformat": 4,
 "nbformat_minor": 2
}
